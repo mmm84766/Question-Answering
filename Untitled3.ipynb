{
  "nbformat": 4,
  "nbformat_minor": 0,
  "metadata": {
    "colab": {
      "name": "Untitled3.ipynb",
      "provenance": [],
      "include_colab_link": true
    },
    "kernelspec": {
      "name": "python3",
      "display_name": "Python 3"
    },
    "accelerator": "GPU"
  },
  "cells": [
    {
      "cell_type": "markdown",
      "metadata": {
        "id": "view-in-github",
        "colab_type": "text"
      },
      "source": [
        "<a href=\"https://colab.research.google.com/github/mmm84766/Question-Answering/blob/master/Untitled3.ipynb\" target=\"_parent\"><img src=\"https://colab.research.google.com/assets/colab-badge.svg\" alt=\"Open In Colab\"/></a>"
      ]
    },
    {
      "cell_type": "code",
      "metadata": {
        "id": "oWUYBRMEfY5d",
        "colab_type": "code",
        "colab": {}
      },
      "source": [
        "%matplotlib inline\n",
        "\n",
        "import tensorflow as tf\n",
        "import numpy as np\n",
        "import matplotlib.pyplot as plt\n",
        "import matplotlib.ticker as ticker\n",
        "import urllib\n",
        "import sys\n",
        "import os\n",
        "import zipfile\n",
        "import tarfile\n",
        "import json \n",
        "import hashlib\n",
        "import re\n",
        "import itertools"
      ],
      "execution_count": 0,
      "outputs": []
    },
    {
      "cell_type": "code",
      "metadata": {
        "id": "oKYkmdFAiBkF",
        "colab_type": "code",
        "colab": {}
      },
      "source": [
        "glove_zip_file = \"glove.6B.zip\"\n",
        "glove_vectors_file = \"glove.6B.50d.txt\"\n",
        "\n",
        "# 15 MB\n",
        "data_set_zip = \"tasks_1-20_v1-2.tar.gz\"\n",
        "\n",
        "#Select \"task 5\"\n",
        "train_set_file = \"qa5_three-arg-relations_train.txt\"\n",
        "test_set_file = \"qa5_three-arg-relations_test.txt\"\n",
        "\n",
        "train_set_post_file = \"tasks_1-20_v1-2/en/\"+train_set_file\n",
        "test_set_post_file = \"tasks_1-20_v1-2/en/\"+test_set_file"
      ],
      "execution_count": 0,
      "outputs": []
    },
    {
      "cell_type": "code",
      "metadata": {
        "id": "LDHzMZEXgz4f",
        "colab_type": "code",
        "colab": {}
      },
      "source": [
        "try: from urllib.request import urlretrieve, urlopen\n",
        "except ImportError: \n",
        "    from urllib import urlretrieve\n",
        "    from urllib2 import urlopen\n",
        "#large file - 862 MB\n",
        "if (not os.path.isfile(glove_zip_file) and\n",
        "    not os.path.isfile(glove_vectors_file)):\n",
        "    urlretrieve (\"http://nlp.stanford.edu/data/glove.6B.zip\", \n",
        "                 glove_zip_file)\n",
        "if (not os.path.isfile(data_set_zip) and\n",
        "    not (os.path.isfile(train_set_file) and os.path.isfile(test_set_file))):\n",
        "    urlretrieve (\"https://s3.amazonaws.com/text-datasets/babi_tasks_1-20_v1-2.tar.gz\", \n",
        "                 data_set_zip)"
      ],
      "execution_count": 0,
      "outputs": []
    },
    {
      "cell_type": "code",
      "metadata": {
        "id": "Q6RC1Ejbhtyj",
        "colab_type": "code",
        "colab": {}
      },
      "source": [
        "def unzip_single_file(zip_file_name, output_file_name):\n",
        "    \"\"\"\n",
        "        If the output file is already created, don't recreate\n",
        "        If the output file does not exist, create it from the zipFile\n",
        "    \"\"\"\n",
        "    if not os.path.isfile(output_file_name):\n",
        "        with open(output_file_name, 'wb') as out_file:\n",
        "            with zipfile.ZipFile(zip_file_name) as zipped:\n",
        "                for info in zipped.infolist():\n",
        "                    if output_file_name in info.filename:\n",
        "                        with zipped.open(info) as requested_file:\n",
        "                            out_file.write(requested_file.read())\n",
        "                            return\n",
        "def targz_unzip_single_file(zip_file_name, output_file_name, interior_relative_path):\n",
        "    if not os.path.isfile(output_file_name):\n",
        "        with tarfile.open(zip_file_name) as un_zipped:\n",
        "            un_zipped.extract(interior_relative_path+output_file_name)    \n",
        "unzip_single_file(glove_zip_file, glove_vectors_file)\n",
        "targz_unzip_single_file(data_set_zip, train_set_file, \"tasks_1-20_v1-2/en/\")\n",
        "targz_unzip_single_file(data_set_zip, test_set_file, \"tasks_1-20_v1-2/en/\")"
      ],
      "execution_count": 0,
      "outputs": []
    },
    {
      "cell_type": "code",
      "metadata": {
        "id": "0mbTFHRCj8jF",
        "colab_type": "code",
        "colab": {}
      },
      "source": [
        "glove_wordmap = {}\n",
        "with open(glove_vectors_file, \"r\", encoding=\"utf8\") as glove:\n",
        "    for line in glove:\n",
        "        name, vector = tuple(line.split(\" \", 1))\n",
        "        glove_wordmap[name] = np.fromstring(vector, sep=\" \")"
      ],
      "execution_count": 0,
      "outputs": []
    },
    {
      "cell_type": "code",
      "metadata": {
        "id": "YJ1K952GkPBs",
        "colab_type": "code",
        "colab": {}
      },
      "source": [
        "wvecs = []\n",
        "for item in glove_wordmap.items():\n",
        "    wvecs.append(item[1])\n",
        "s = np.vstack(wvecs)\n",
        "\n",
        "# Gather the distribution hyperparameters\n",
        "v = np.var(s,0) \n",
        "m = np.mean(s,0) \n",
        "RS = np.random.RandomState()\n",
        "\n",
        "def fill_unk(unk):\n",
        "    global glove_wordmap\n",
        "    glove_wordmap[unk] = RS.multivariate_normal(m,np.diag(v))\n",
        "    return glove_wordmap[unk]"
      ],
      "execution_count": 0,
      "outputs": []
    },
    {
      "cell_type": "code",
      "metadata": {
        "id": "C5rD0AYQkVVt",
        "colab_type": "code",
        "colab": {}
      },
      "source": [
        "def sentence2sequence(sentence):\n",
        "    \"\"\"\n",
        "\n",
        "    - Turns an input paragraph into an (m,d) matrix, \n",
        "        where n is the number of tokens in the sentence\n",
        "        and d is the number of dimensions each word vector has.\n",
        "\n",
        "      TensorFlow doesn't need to be used here, as simply\n",
        "      turning the sentence into a sequence based off our \n",
        "      mapping does not need the computational power that\n",
        "      TensorFlow provides. Normal Python suffices for this task.\n",
        "    \"\"\"\n",
        "    tokens = sentence.strip('\"(),-').lower().split(\" \")\n",
        "    rows = []\n",
        "    words = []\n",
        "    #Greedy search for tokens\n",
        "    for token in tokens:\n",
        "        i = len(token)\n",
        "        while len(token) > 0:\n",
        "            word = token[:i]\n",
        "            if word in glove_wordmap:\n",
        "                rows.append(glove_wordmap[word])\n",
        "                words.append(word)\n",
        "                token = token[i:]\n",
        "                i = len(token)\n",
        "                continue\n",
        "            else:\n",
        "                i = i-1\n",
        "            if i == 0:\n",
        "                # word OOV\n",
        "                # https://arxiv.org/pdf/1611.01436.pdf\n",
        "                rows.append(fill_unk(token))\n",
        "                words.append(token)\n",
        "                break\n",
        "    return np.array(rows), words\n"
      ],
      "execution_count": 0,
      "outputs": []
    },
    {
      "cell_type": "code",
      "metadata": {
        "id": "yQCYnF6Skb1y",
        "colab_type": "code",
        "colab": {}
      },
      "source": [
        "def sentence2sequence(sentence):\n",
        "    \"\"\"\n",
        "\n",
        "    - Turns an input paragraph into an (m,d) matrix, \n",
        "        where n is the number of tokens in the sentence\n",
        "        and d is the number of dimensions each word vector has.\n",
        "\n",
        "      TensorFlow doesn't need to be used here, as simply\n",
        "      turning the sentence into a sequence based off our \n",
        "      mapping does not need the computational power that\n",
        "      TensorFlow provides. Normal Python suffices for this task.\n",
        "    \"\"\"\n",
        "    tokens = sentence.strip('\"(),-').lower().split(\" \")\n",
        "    rows = []\n",
        "    words = []\n",
        "    #Greedy search for tokens\n",
        "    for token in tokens:\n",
        "        i = len(token)\n",
        "        while len(token) > 0:\n",
        "            word = token[:i]\n",
        "            if word in glove_wordmap:\n",
        "                rows.append(glove_wordmap[word])\n",
        "                words.append(word)\n",
        "                token = token[i:]\n",
        "                i = len(token)\n",
        "                continue\n",
        "            else:\n",
        "                i = i-1\n",
        "            if i == 0:\n",
        "                # word OOV\n",
        "                # https://arxiv.org/pdf/1611.01436.pdf\n",
        "                rows.append(fill_unk(token))\n",
        "                words.append(token)\n",
        "                break\n",
        "    return np.array(rows), words\n"
      ],
      "execution_count": 0,
      "outputs": []
    },
    {
      "cell_type": "code",
      "metadata": {
        "id": "FbeThTe8km46",
        "colab_type": "code",
        "colab": {}
      },
      "source": [
        "def contextualize(set_file):\n",
        "    \"\"\"\n",
        "    Read in the dataset of questions and build question+answer -> context sets.\n",
        "    Output is a list of data points, each of which is a 7-element tuple containing:\n",
        "        The sentences in the context in vectorized form.\n",
        "        The sentences in the context as a list of string tokens.\n",
        "        The question in vectorized form.\n",
        "        The question as a list of string tokens.\n",
        "        The answer in vectorized form.\n",
        "        The answer as a list of string tokens.\n",
        "        A list of numbers for supporting statements, which is currently unused.\n",
        "    \"\"\"\n",
        "    data = []\n",
        "    context = []\n",
        "    with open(set_file, \"r\", encoding=\"utf8\") as train:\n",
        "        for line in train:\n",
        "            l, ine = tuple(line.split(\" \", 1))\n",
        "            # Split the line numbers from the sentences they refer to.\n",
        "            if l is \"1\":\n",
        "                # New contexts always start with 1, \n",
        "                # so this is a signal to reset the context.\n",
        "                context = []\n",
        "            if \"\\t\" in ine: \n",
        "                # Tabs are the separator between questions and answers,\n",
        "                # and are not present in context statements.\n",
        "                question, answer, support = tuple(ine.split(\"\\t\"))\n",
        "                data.append((tuple(zip(*context))+\n",
        "                             sentence2sequence(question)+\n",
        "                             sentence2sequence(answer)+\n",
        "                             ([int(s) for s in support.split()],)))\n",
        "                # Multiple questions may refer to the same context, so we don't reset it.\n",
        "            else:\n",
        "                # Context sentence.\n",
        "                context.append(sentence2sequence(ine[:-1]))\n",
        "    return data\n",
        "train_data = contextualize(train_set_post_file)\n",
        "test_data = contextualize(test_set_post_file)\n"
      ],
      "execution_count": 0,
      "outputs": []
    },
    {
      "cell_type": "code",
      "metadata": {
        "id": "UdkYncJ5BcED",
        "colab_type": "code",
        "colab": {}
      },
      "source": [
        "final_train_data = []\n",
        "def finalize(data):\n",
        "    \"\"\"\n",
        "    Prepares data generated by contextualize() for use in the network.\n",
        "    \"\"\"\n",
        "    final_data = []\n",
        "    for cqas in train_data:\n",
        "        contextvs, contextws, qvs, qws, avs, aws, spt = cqas\n",
        "\n",
        "        lengths = itertools.accumulate(len(cvec) for cvec in contextvs)\n",
        "        context_vec = np.concatenate(contextvs)\n",
        "        context_words = sum(contextws,[])\n",
        "\n",
        "        # Location markers for the beginnings of new sentences.\n",
        "        sentence_ends = np.array(list(lengths)) \n",
        "        final_data.append((context_vec, sentence_ends, qvs, spt, context_words, cqas, avs, aws))\n",
        "    return np.array(final_data)\n",
        "final_train_data = finalize(train_data)   \n",
        "final_test_data = finalize(test_data)"
      ],
      "execution_count": 0,
      "outputs": []
    },
    {
      "cell_type": "code",
      "metadata": {
        "id": "EUv-ZjIgBg5t",
        "colab_type": "code",
        "colab": {}
      },
      "source": [
        "tf.reset_default_graph()"
      ],
      "execution_count": 0,
      "outputs": []
    },
    {
      "cell_type": "code",
      "metadata": {
        "id": "riZatMo3Blwi",
        "colab_type": "code",
        "colab": {}
      },
      "source": [
        "# Hyperparameters\n",
        "\n",
        "# The number of dimensions used to store data passed between recurrent layers in the network.\n",
        "recurrent_cell_size = 128\n",
        "\n",
        "# The number of dimensions in our word vectorizations.\n",
        "D = 50 \n",
        "\n",
        "# How quickly the network learns. Too high, and we may run into numeric instability \n",
        "# or other issues.\n",
        "learning_rate = 0.005\n",
        "\n",
        "# Dropout probabilities. For a description of dropout and what these probabilities are, \n",
        "# see Entailment with TensorFlow.\n",
        "input_p, output_p = 0.5, 0.5\n",
        "\n",
        "# How many questions we train on at a time.\n",
        "batch_size = 128\n",
        "\n",
        "# Number of passes in episodic memory. We'll get to this later.\n",
        "passes = 4\n",
        "\n",
        "# Feed Forward layer sizes: the number of dimensions used to store data passed from feed-forward layers.\n",
        "ff_hidden_size = 256\n",
        "\n",
        "weight_decay = 0.00000001\n",
        "# The strength of our regularization. Increase to encourage sparsity in episodic memory, \n",
        "# but makes training slower. Don't make this larger than leraning_rate.\n",
        "\n",
        "training_iterations_count = 400000\n",
        "# How many questions the network trains on each time it is trained. \n",
        "# Some questions are counted multiple times.\n",
        "\n",
        "display_step = 100\n",
        "# How many iterations of training occur before each validation check.\n"
      ],
      "execution_count": 0,
      "outputs": []
    },
    {
      "cell_type": "code",
      "metadata": {
        "id": "KcWKpFEgBtfr",
        "colab_type": "code",
        "colab": {
          "base_uri": "https://localhost:8080/",
          "height": 436
        },
        "outputId": "17e9ee67-3472-4b5e-aa61-44af9582e6cc"
      },
      "source": [
        "# Input Module\n",
        "\n",
        "# Context: A [batch_size, maximum_context_length, word_vectorization_dimensions] tensor \n",
        "# that contains all the context information.\n",
        "context = tf.placeholder(tf.float32, [None, None, D], \"context\")  \n",
        "context_placeholder = context # I use context as a variable name later on\n",
        "\n",
        "# input_sentence_endings: A [batch_size, maximum_sentence_count, 2] tensor that \n",
        "# contains the locations of the ends of sentences. \n",
        "input_sentence_endings = tf.placeholder(tf.int32, [None, None, 2], \"sentence\")\n",
        "\n",
        "# recurrent_cell_size: the number of hidden units in recurrent layers.\n",
        "input_gru = tf.contrib.rnn.GRUCell(recurrent_cell_size)\n",
        "\n",
        "# input_p: The probability of maintaining a specific hidden input unit.\n",
        "# Likewise, output_p is the probability of maintaining a specific hidden output unit.\n",
        "gru_drop = tf.contrib.rnn.DropoutWrapper(input_gru, input_p, output_p)\n",
        "\n",
        "# dynamic_rnn also returns the final internal state. We don't need that, and can\n",
        "# ignore the corresponding output (_). \n",
        "input_module_outputs, _ = tf.nn.dynamic_rnn(gru_drop, context, dtype=tf.float32, scope = \"input_module\")\n",
        "\n",
        "# cs: the facts gathered from the context.\n",
        "cs = tf.gather_nd(input_module_outputs, input_sentence_endings)\n",
        "# to use every word as a fact, useful for tasks with one-sentence contexts\n",
        "s = input_module_outputs\n"
      ],
      "execution_count": 14,
      "outputs": [
        {
          "output_type": "stream",
          "text": [
            "WARNING:tensorflow:\n",
            "The TensorFlow contrib module will not be included in TensorFlow 2.0.\n",
            "For more information, please see:\n",
            "  * https://github.com/tensorflow/community/blob/master/rfcs/20180907-contrib-sunset.md\n",
            "  * https://github.com/tensorflow/addons\n",
            "  * https://github.com/tensorflow/io (for I/O related ops)\n",
            "If you depend on functionality not listed there, please file an issue.\n",
            "\n",
            "WARNING:tensorflow:From <ipython-input-14-6ad0c250cfe3>:9: GRUCell.__init__ (from tensorflow.python.ops.rnn_cell_impl) is deprecated and will be removed in a future version.\n",
            "Instructions for updating:\n",
            "This class is equivalent as tf.keras.layers.GRUCell, and will be replaced by that in Tensorflow 2.0.\n",
            "WARNING:tensorflow:From <ipython-input-14-6ad0c250cfe3>:17: dynamic_rnn (from tensorflow.python.ops.rnn) is deprecated and will be removed in a future version.\n",
            "Instructions for updating:\n",
            "Please use `keras.layers.RNN(cell)`, which is equivalent to this API\n",
            "WARNING:tensorflow:From /usr/local/lib/python3.6/dist-packages/tensorflow_core/python/ops/rnn_cell_impl.py:559: Layer.add_variable (from tensorflow.python.keras.engine.base_layer) is deprecated and will be removed in a future version.\n",
            "Instructions for updating:\n",
            "Please use `layer.add_weight` method instead.\n",
            "WARNING:tensorflow:From /usr/local/lib/python3.6/dist-packages/tensorflow_core/python/ops/rnn_cell_impl.py:565: calling Constant.__init__ (from tensorflow.python.ops.init_ops) with dtype is deprecated and will be removed in a future version.\n",
            "Instructions for updating:\n",
            "Call initializer instance with the dtype argument instead of passing it to the constructor\n",
            "WARNING:tensorflow:From /usr/local/lib/python3.6/dist-packages/tensorflow_core/python/ops/rnn_cell_impl.py:575: calling Zeros.__init__ (from tensorflow.python.ops.init_ops) with dtype is deprecated and will be removed in a future version.\n",
            "Instructions for updating:\n",
            "Call initializer instance with the dtype argument instead of passing it to the constructor\n"
          ],
          "name": "stdout"
        }
      ]
    },
    {
      "cell_type": "code",
      "metadata": {
        "id": "tHdGvPooB5lY",
        "colab_type": "code",
        "colab": {}
      },
      "source": [
        "# Question Module\n",
        "\n",
        "# query: A [batch_size, maximum_question_length, word_vectorization_dimensions] tensor \n",
        "#  that contains all of the questions.\n",
        "\n",
        "query = tf.placeholder(tf.float32, [None, None, D], \"query\")\n",
        "\n",
        "# input_query_lengths: A [batch_size, 2] tensor that contains question length information. \n",
        "# input_query_lengths[:,1] has the actual lengths; input_query_lengths[:,0] is a simple range() \n",
        "# so that it plays nice with gather_nd.\n",
        "input_query_lengths = tf.placeholder(tf.int32, [None, 2], \"query_lengths\")\n",
        "\n",
        "question_module_outputs, _ = tf.nn.dynamic_rnn(gru_drop, query, dtype=tf.float32, \n",
        "                                               scope = tf.VariableScope(True, \"input_module\"))\n",
        "\n",
        "# q: the question states. A [batch_size, recurrent_cell_size] tensor.\n",
        "q = tf.gather_nd(question_module_outputs, input_query_lengths)"
      ],
      "execution_count": 0,
      "outputs": []
    },
    {
      "cell_type": "code",
      "metadata": {
        "id": "qYJqdfdKCBw7",
        "colab_type": "code",
        "colab": {
          "base_uri": "https://localhost:8080/",
          "height": 193
        },
        "outputId": "3ab333d4-a3a0-4cbb-dc2b-23f6a13f9f75"
      },
      "source": [
        "# Episodic Memory\n",
        "\n",
        "# make sure the current memory (i.e. the question vector) is broadcasted along the facts dimension\n",
        "size = tf.stack([tf.constant(1),tf.shape(cs)[1], tf.constant(1)])\n",
        "re_q = tf.tile(tf.reshape(q,[-1,1,recurrent_cell_size]),size)\n",
        "\n",
        "\n",
        "# Final output for attention, needs to be 1 in order to create a mask\n",
        "output_size = 1 \n",
        "\n",
        "# Weights and biases\n",
        "attend_init = tf.random_normal_initializer(stddev=0.1)\n",
        "w_1 = tf.get_variable(\"attend_w1\", [1,recurrent_cell_size*7, recurrent_cell_size], \n",
        "                      tf.float32, initializer = attend_init)\n",
        "w_2 = tf.get_variable(\"attend_w2\", [1,recurrent_cell_size, output_size], \n",
        "                      tf.float32, initializer = attend_init)\n",
        "\n",
        "b_1 = tf.get_variable(\"attend_b1\", [1, recurrent_cell_size], \n",
        "                      tf.float32, initializer = attend_init)\n",
        "b_2 = tf.get_variable(\"attend_b2\", [1, output_size], \n",
        "                      tf.float32, initializer = attend_init)\n",
        "\n",
        "# Regulate all the weights and biases\n",
        "tf.add_to_collection(tf.GraphKeys.REGULARIZATION_LOSSES, tf.nn.l2_loss(w_1))\n",
        "tf.add_to_collection(tf.GraphKeys.REGULARIZATION_LOSSES, tf.nn.l2_loss(b_1))\n",
        "tf.add_to_collection(tf.GraphKeys.REGULARIZATION_LOSSES, tf.nn.l2_loss(w_2))\n",
        "tf.add_to_collection(tf.GraphKeys.REGULARIZATION_LOSSES, tf.nn.l2_loss(b_2))\n",
        "\n",
        "def attention(c, mem, existing_facts):\n",
        "    \"\"\"\n",
        "    Custom attention mechanism.\n",
        "    c: A [batch_size, maximum_sentence_count, recurrent_cell_size] tensor \n",
        "        that contains all the facts from the contexts.\n",
        "    mem: A [batch_size, maximum_sentence_count, recurrent_cell_size] tensor that \n",
        "        contains the current memory. It should be the same memory for all facts for accurate results.\n",
        "    existing_facts: A [batch_size, maximum_sentence_count, 1] tensor that \n",
        "        acts as a binary mask for which facts exist and which do not.\n",
        "\n",
        "    \"\"\"\n",
        "    with tf.variable_scope(\"attending\") as scope:\n",
        "        # attending: The metrics by which we decide what to attend to.\n",
        "        attending = tf.concat([c, mem, re_q, c * re_q,  c * mem, (c-re_q)**2, (c-mem)**2], 2)\n",
        "\n",
        "        # m1: First layer of multiplied weights for the feed-forward network. \n",
        "        #     We tile the weights in order to manually broadcast, since tf.matmul does not\n",
        "        #     automatically broadcast batch matrix multiplication as of TensorFlow 1.2.\n",
        "        m1 = tf.matmul(attending * existing_facts, \n",
        "                       tf.tile(w_1, tf.stack([tf.shape(attending)[0],1,1]))) * existing_facts\n",
        "        # bias_1: A masked version of the first feed-forward layer's bias\n",
        "        #     over only existing facts.\n",
        "\n",
        "        bias_1 = b_1 * existing_facts\n",
        "\n",
        "        # tnhan: First nonlinearity. In the original paper, this is a tanh nonlinearity; \n",
        "        #        choosing relu was a design choice intended to avoid issues with \n",
        "        #        low gradient magnitude when the tanh returned values close to 1 or -1. \n",
        "        tnhan = tf.nn.relu(m1 + bias_1)\n",
        "\n",
        "        # m2: Second layer of multiplied weights for the feed-forward network. \n",
        "        #     Still tiling weights for the same reason described in m1's comments.\n",
        "        m2 = tf.matmul(tnhan, tf.tile(w_2, tf.stack([tf.shape(attending)[0],1,1])))\n",
        "\n",
        "        # bias_2: A masked version of the second feed-forward layer's bias.\n",
        "        bias_2 = b_2 * existing_facts\n",
        "\n",
        "        # norm_m2: A normalized version of the second layer of weights, which is used \n",
        "        #     to help make sure the softmax nonlinearity doesn't saturate.\n",
        "        norm_m2 = tf.nn.l2_normalize(m2 + bias_2, -1)\n",
        "\n",
        "        # softmaxable: A hack in order to use sparse_softmax on an otherwise dense tensor. \n",
        "        #     We make norm_m2 a sparse tensor, then make it dense again after the operation.\n",
        "        softmax_idx = tf.where(tf.not_equal(norm_m2, 0))[:,:-1]\n",
        "        softmax_gather = tf.gather_nd(norm_m2[...,0], softmax_idx)\n",
        "        softmax_shape = tf.shape(norm_m2, out_type=tf.int64)[:-1]\n",
        "        softmaxable = tf.SparseTensor(softmax_idx, softmax_gather, softmax_shape)\n",
        "        return tf.expand_dims(tf.sparse_tensor_to_dense(tf.sparse_softmax(softmaxable)),-1)\n",
        "\n",
        "# facts_0s: a [batch_size, max_facts_length, 1] tensor \n",
        "#     whose values are 1 if the corresponding fact exists and 0 if not.\n",
        "facts_0s = tf.cast(tf.count_nonzero(input_sentence_endings[:,:,-1:],-1,keep_dims=True),tf.float32)\n",
        "\n",
        "\n",
        "with tf.variable_scope(\"Episodes\") as scope:\n",
        "    attention_gru = tf.contrib.rnn.GRUCell(recurrent_cell_size)\n",
        "\n",
        "    # memory: A list of all tensors that are the (current or past) memory state \n",
        "    #   of the attention mechanism.\n",
        "    memory = [q]\n",
        "\n",
        "    # attends: A list of all tensors that represent what the network attends to.\n",
        "    attends = []\n",
        "    for a in range(passes):\n",
        "        # attention mask\n",
        "        attend_to = attention(cs, tf.tile(tf.reshape(memory[-1],[-1,1,recurrent_cell_size]),size),\n",
        "                              facts_0s)\n",
        "\n",
        "        # Inverse attention mask, for what's retained in the state.\n",
        "        retain = 1-attend_to\n",
        "\n",
        "        # GRU pass over the facts, according to the attention mask.\n",
        "        while_valid_index = (lambda state, index: index < tf.shape(cs)[1])\n",
        "        update_state = (lambda state, index: (attend_to[:,index,:] * \n",
        "                                                 attention_gru(cs[:,index,:], state)[0] + \n",
        "                                                 retain[:,index,:] * state))\n",
        "        # start loop with most recent memory and at the first index\n",
        "        memory.append(tuple(tf.while_loop(while_valid_index,\n",
        "                          (lambda state, index: (update_state(state,index),index+1)),\n",
        "                           loop_vars = [memory[-1], 0]))[0]) \n",
        "\n",
        "        attends.append(attend_to)\n",
        "\n",
        "        # Reuse variables so the GRU pass uses the same variables every pass.\n",
        "        scope.reuse_variables()\n"
      ],
      "execution_count": 16,
      "outputs": [
        {
          "output_type": "stream",
          "text": [
            "WARNING:tensorflow:From <ipython-input-16-8d9c84da2a3c>:77: calling count_nonzero (from tensorflow.python.ops.math_ops) with keep_dims is deprecated and will be removed in a future version.\n",
            "Instructions for updating:\n",
            "keep_dims is deprecated, use keepdims instead\n",
            "WARNING:tensorflow:From /usr/local/lib/python3.6/dist-packages/tensorflow_core/python/util/deprecation.py:507: calling count_nonzero (from tensorflow.python.ops.math_ops) with axis is deprecated and will be removed in a future version.\n",
            "Instructions for updating:\n",
            "reduction_indices is deprecated, use axis instead\n",
            "WARNING:tensorflow:From <ipython-input-16-8d9c84da2a3c>:69: where (from tensorflow.python.ops.array_ops) is deprecated and will be removed in a future version.\n",
            "Instructions for updating:\n",
            "Use tf.where in 2.0, which has the same broadcast rule as np.where\n"
          ],
          "name": "stdout"
        }
      ]
    },
    {
      "cell_type": "code",
      "metadata": {
        "id": "mxywlUlUCWwi",
        "colab_type": "code",
        "colab": {}
      },
      "source": [
        "# Answer Module\n",
        "\n",
        "# a0: Final memory state. (Input to answer module)\n",
        "a0 = tf.concat([memory[-1], q], -1)\n",
        "\n",
        "# fc_init: Initializer for the final fully connected layer's weights.\n",
        "fc_init = tf.random_normal_initializer(stddev=0.1) \n",
        "\n",
        "with tf.variable_scope(\"answer\"):\n",
        "    # w_answer: The final fully connected layer's weights.\n",
        "    w_answer = tf.get_variable(\"weight\", [recurrent_cell_size*2, D], \n",
        "                               tf.float32, initializer = fc_init)\n",
        "    # Regulate the fully connected layer's weights\n",
        "    tf.add_to_collection(tf.GraphKeys.REGULARIZATION_LOSSES, \n",
        "                     tf.nn.l2_loss(w_answer)) \n",
        "\n",
        "    # The regressed word. This isn't an actual word yet; \n",
        "    #    we still have to find the closest match.\n",
        "    logit = tf.expand_dims(tf.matmul(a0, w_answer),1)\n",
        "\n",
        "    # Make a mask over which words exist.\n",
        "    with tf.variable_scope(\"ending\"):\n",
        "        all_ends = tf.reshape(input_sentence_endings, [-1,2])\n",
        "        range_ends = tf.range(tf.shape(all_ends)[0])\n",
        "        ends_indices = tf.stack([all_ends[:,0],range_ends], axis=1)\n",
        "        ind = tf.reduce_max(tf.scatter_nd(ends_indices, all_ends[:,1],\n",
        "                                          [tf.shape(q)[0], tf.shape(all_ends)[0]]),\n",
        "                            axis=-1)\n",
        "        range_ind = tf.range(tf.shape(ind)[0])\n",
        "        mask_ends = tf.cast(tf.scatter_nd(tf.stack([ind, range_ind], axis=1), \n",
        "                                          tf.ones_like(range_ind), [tf.reduce_max(ind)+1, \n",
        "                                                                    tf.shape(ind)[0]]), bool)\n",
        "        # A bit of a trick. With the locations of the ends of the mask (the last periods in \n",
        "        #  each of the contexts) as 1 and the rest as 0, we can scan with exclusive or \n",
        "        #  (starting from all 1). For each context in the batch, this will result in 1s \n",
        "        #  up until the marker (the location of that last period) and 0s afterwards.\n",
        "        mask = tf.scan(tf.logical_xor,mask_ends, tf.ones_like(range_ind, dtype=bool))\n",
        "\n",
        "    # We score each possible word inversely with their Euclidean distance to the regressed word.\n",
        "    #  The highest score (lowest distance) will correspond to the selected word.\n",
        "    logits = -tf.reduce_sum(tf.square(context*tf.transpose(tf.expand_dims(\n",
        "                    tf.cast(mask, tf.float32),-1),[1,0,2]) - logit), axis=-1)\n"
      ],
      "execution_count": 0,
      "outputs": []
    },
    {
      "cell_type": "code",
      "metadata": {
        "id": "YwyNttlfCgBA",
        "colab_type": "code",
        "colab": {
          "base_uri": "https://localhost:8080/",
          "height": 89
        },
        "outputId": "28b8f4ef-08ee-4ab9-8e0b-84cdd43a377c"
      },
      "source": [
        "# Training\n",
        "\n",
        "# gold_standard: The real answers.\n",
        "gold_standard = tf.placeholder(tf.float32, [None, 1, D], \"answer\")\n",
        "with tf.variable_scope('accuracy'):\n",
        "    eq = tf.equal(context, gold_standard)\n",
        "    corrbool = tf.reduce_all(eq,-1)\n",
        "    logloc = tf.reduce_max(logits, -1, keep_dims = True)\n",
        "    # locs: A boolean tensor that indicates where the score \n",
        "    #  matches the minimum score. This happens on multiple dimensions, \n",
        "    #  so in the off chance there's one or two indexes that match \n",
        "    #  we make sure it matches in all indexes.\n",
        "    locs = tf.equal(logits, logloc)\n",
        "\n",
        "    # correctsbool: A boolean tensor that indicates for which \n",
        "    #   words in the context the score always matches the minimum score.\n",
        "    correctsbool = tf.reduce_any(tf.logical_and(locs, corrbool), -1)\n",
        "    # corrects: A tensor that is simply correctsbool cast to floats.\n",
        "    corrects = tf.where(correctsbool, tf.ones_like(correctsbool, dtype=tf.float32), \n",
        "                        tf.zeros_like(correctsbool,dtype=tf.float32))\n",
        "\n",
        "    # corr: corrects, but for the right answer instead of our selected answer.\n",
        "    corr = tf.where(corrbool, tf.ones_like(corrbool, dtype=tf.float32), \n",
        "                        tf.zeros_like(corrbool,dtype=tf.float32))\n",
        "with tf.variable_scope(\"loss\"):\n",
        "    # Use sigmoid cross entropy as the base loss, \n",
        "    #  with our distances as the relative probabilities. There are\n",
        "    #  multiple correct labels, for each location of the answer word within the context.\n",
        "    loss = tf.nn.sigmoid_cross_entropy_with_logits(logits = tf.nn.l2_normalize(logits,-1),\n",
        "                                                   labels = corr)\n",
        "\n",
        "    # Add regularization losses, weighted by weight_decay.\n",
        "    total_loss = tf.reduce_mean(loss) + weight_decay * tf.add_n(\n",
        "        tf.get_collection(tf.GraphKeys.REGULARIZATION_LOSSES))\n",
        "\n",
        "# TensorFlow's default implementation of the Adam optimizer works. We can adjust more than \n",
        "#  just the learning rate, but it's not necessary to find a very good optimum.\n",
        "optimizer = tf.train.AdamOptimizer(learning_rate)\n",
        "\n",
        "# Once we have an optimizer, we ask it to minimize the loss \n",
        "#   in order to work towards the proper training.\n",
        "opt_op = optimizer.minimize(total_loss)\n",
        "\n"
      ],
      "execution_count": 18,
      "outputs": [
        {
          "output_type": "stream",
          "text": [
            "WARNING:tensorflow:From <ipython-input-18-2e678c7d6d9c>:5: calling reduce_max_v1 (from tensorflow.python.ops.math_ops) with keep_dims is deprecated and will be removed in a future version.\n",
            "Instructions for updating:\n",
            "keep_dims is deprecated, use keepdims instead\n"
          ],
          "name": "stdout"
        }
      ]
    },
    {
      "cell_type": "code",
      "metadata": {
        "id": "RpRAkaGXCo63",
        "colab_type": "code",
        "colab": {}
      },
      "source": [
        "# Initialize variables\n",
        "init = tf.global_variables_initializer()\n",
        "\n",
        "# Launch the TensorFlow session\n",
        "sess = tf.Session()\n",
        "sess.run(init)\n"
      ],
      "execution_count": 0,
      "outputs": []
    },
    {
      "cell_type": "code",
      "metadata": {
        "id": "1R2zHsanCtPj",
        "colab_type": "code",
        "colab": {
          "base_uri": "https://localhost:8080/",
          "height": 106
        },
        "outputId": "c5227d39-6919-4dd2-e00e-bb8f0747189b"
      },
      "source": [
        "def prep_batch(batch_data, more_data = False):\n",
        "    \"\"\"\n",
        "        Prepare all the preproccessing that needs to be done on a batch-by-batch basis.\n",
        "    \"\"\"\n",
        "    context_vec, sentence_ends, questionvs, spt, context_words, cqas, answervs, _ = zip(*batch_data)\n",
        "    ends = list(sentence_ends)\n",
        "    maxend = max(map(len, ends))\n",
        "    aends = np.zeros((len(ends), maxend))\n",
        "    for index, i in enumerate(ends):\n",
        "        for indexj, x in enumerate(i):\n",
        "            aends[index, indexj] = x-1\n",
        "    new_ends = np.zeros(aends.shape+(2,))\n",
        "\n",
        "    for index, x in np.ndenumerate(aends):\n",
        "        new_ends[index+(0,)] = index[0]\n",
        "        new_ends[index+(1,)] = x\n",
        "\n",
        "    contexts = list(context_vec)\n",
        "    max_context_length = max([len(x) for x in contexts])\n",
        "    contextsize = list(np.array(contexts[0]).shape)\n",
        "    contextsize[0] = max_context_length\n",
        "    final_contexts = np.zeros([len(contexts)]+contextsize)\n",
        "\n",
        "    contexts = [np.array(x) for x in contexts]\n",
        "    for i, context in enumerate(contexts):\n",
        "        final_contexts[i,0:len(context),:] = context\n",
        "    max_query_length = max(len(x) for x in questionvs)\n",
        "    querysize = list(np.array(questionvs[0]).shape)\n",
        "    querysize[:1] = [len(questionvs),max_query_length]\n",
        "    queries = np.zeros(querysize)\n",
        "    querylengths = np.array(list(zip(range(len(questionvs)),[len(q)-1 for q in questionvs])))\n",
        "    questions = [np.array(q) for q in questionvs]\n",
        "    for i, question in enumerate(questions):\n",
        "        queries[i,0:len(question),:] = question\n",
        "    data = {context_placeholder: final_contexts, input_sentence_endings: new_ends, \n",
        "                            query:queries, input_query_lengths:querylengths, gold_standard: answervs}\n",
        "    return (data, context_words, cqas) if more_data else data\n",
        "\n",
        "# Use TQDM if installed\n",
        "tqdm_installed = False\n",
        "try:\n",
        "    from tqdm import tqdm\n",
        "    tqdm_installed = True\n",
        "except:\n",
        "    pass\n",
        "\n",
        "\n",
        "# Prepare validation set\n",
        "batch = np.random.randint(final_test_data.shape[0], size=batch_size*10)\n",
        "batch_data = final_test_data[batch]\n",
        "\n",
        "validation_set, val_context_words, val_cqas = prep_batch(batch_data, True)\n",
        "\n",
        "# training_iterations_count: The number of data pieces to train on in total\n",
        "# batch_size: The number of data pieces per batch\n",
        "def train(iterations, batch_size):\n",
        "    training_iterations = range(0,iterations,batch_size)\n",
        "    if tqdm_installed:\n",
        "        # Add a progress bar if TQDM is installed\n",
        "        training_iterations = tqdm(training_iterations)\n",
        "\n",
        "    wordz = []\n",
        "    for j in training_iterations:\n",
        "\n",
        "        batch = np.random.randint(final_train_data.shape[0], size=batch_size)\n",
        "        batch_data = final_train_data[batch]\n",
        "\n",
        "        sess.run([opt_op], feed_dict=prep_batch(batch_data))\n",
        "        if (j/batch_size) % display_step == 0:\n",
        "\n",
        "            # Calculate batch accuracy\n",
        "            acc, ccs, tmp_loss, log, con, cor, loc  = sess.run([corrects, cs, total_loss, logit,\n",
        "                                                                context_placeholder,corr, locs], \n",
        "                                                               feed_dict=validation_set)\n",
        "            # Display results\n",
        "            print(\"Iter \" + str(j/batch_size) + \", Minibatch Loss= \",tmp_loss,\n",
        "                  \"Accuracy= \", np.mean(acc))\n",
        "train(30000,batch_size) # Small amount of training for preliminary results\n"
      ],
      "execution_count": 20,
      "outputs": [
        {
          "output_type": "stream",
          "text": [
            "  0%|          | 1/235 [00:06<23:36,  6.05s/it]"
          ],
          "name": "stderr"
        },
        {
          "output_type": "stream",
          "text": [
            "Iter 0.0, Minibatch Loss=  0.6734771 Accuracy=  0.1296875\n"
          ],
          "name": "stdout"
        },
        {
          "output_type": "stream",
          "text": [
            " 43%|████▎     | 101/235 [02:31<04:18,  1.93s/it]"
          ],
          "name": "stderr"
        },
        {
          "output_type": "stream",
          "text": [
            "Iter 100.0, Minibatch Loss=  0.67331827 Accuracy=  0.2859375\n"
          ],
          "name": "stdout"
        },
        {
          "output_type": "stream",
          "text": [
            " 86%|████████▌ | 201/235 [04:53<01:04,  1.90s/it]"
          ],
          "name": "stderr"
        },
        {
          "output_type": "stream",
          "text": [
            "Iter 200.0, Minibatch Loss=  0.6732771 Accuracy=  0.41328126\n"
          ],
          "name": "stdout"
        },
        {
          "output_type": "stream",
          "text": [
            "100%|██████████| 235/235 [05:40<00:00,  1.38s/it]\n"
          ],
          "name": "stderr"
        }
      ]
    },
    {
      "cell_type": "code",
      "metadata": {
        "id": "I-AhtNJlC1WD",
        "colab_type": "code",
        "colab": {
          "base_uri": "https://localhost:8080/",
          "height": 1000
        },
        "outputId": "889af26d-6b91-407f-9aa2-15a111c72a7b"
      },
      "source": [
        "ancr = sess.run([corrbool,locs, total_loss, logits, facts_0s, w_1]+attends+\n",
        "                [query, cs, question_module_outputs],feed_dict=validation_set)\n",
        "a = ancr[0]\n",
        "n = ancr[1]\n",
        "cr = ancr[2]\n",
        "attenders = np.array(ancr[6:-3]) \n",
        "faq = np.sum(ancr[4], axis=(-1,-2)) # Number of facts in each context\n",
        "\n",
        "limit = 5\n",
        "for question in range(min(limit, batch_size)):\n",
        "    plt.yticks(range(passes,0,-1))\n",
        "    plt.ylabel(\"Episode\")\n",
        "    plt.xlabel(\"Question \"+str(question+1))\n",
        "    pltdata = attenders[:,question,:int(faq[question]),0] \n",
        "    # Display only information about facts that actually exist, all others are 0\n",
        "    pltdata = (pltdata - pltdata.mean()) / ((pltdata.max() - pltdata.min() + 0.001)) * 256\n",
        "    plt.pcolor(pltdata, cmap=plt.cm.BuGn, alpha=0.7)\n",
        "    plt.show()"
      ],
      "execution_count": 21,
      "outputs": [
        {
          "output_type": "display_data",
          "data": {
            "image/png": "[encoded data removed]",
            "text/plain": [
              "<Figure size 432x288 with 1 Axes>"
            ]
          },
          "metadata": {
            "tags": []
          }
        },
        {
          "output_type": "display_data",
          "data": {
            "image/png": "[encoded data removed]",
            "text/plain": [
              "<Figure size 432x288 with 1 Axes>"
            ]
          },
          "metadata": {
            "tags": []
          }
        },
        {
          "output_type": "display_data",
          "data": {
            "image/png": "[encoded data removed]",
            "text/plain": [
              "<Figure size 432x288 with 1 Axes>"
            ]
          },
          "metadata": {
            "tags": []
          }
        },
        {
          "output_type": "display_data",
          "data": {
            "image/png": "[encoded data removed]",
            "text/plain": [
              "<Figure size 432x288 with 1 Axes>"
            ]
          },
          "metadata": {
            "tags": []
          }
        },
        {
          "output_type": "display_data",
          "data": {
            "image/png": "[encoded data removed]",
            "text/plain": [
              "<Figure size 432x288 with 1 Axes>"
            ]
          },
          "metadata": {
            "tags": []
          }
        }
      ]
    },
    {
      "cell_type": "code",
      "metadata": {
        "id": "hWZYkLLiEMGS",
        "colab_type": "code",
        "colab": {
          "base_uri": "https://localhost:8080/",
          "height": 506
        },
        "outputId": "08419d8d-ba91-425d-8a68-62d603b8294a"
      },
      "source": [
        "# Locations of responses within contexts\n",
        "indices = np.argmax(n,axis=1)\n",
        "\n",
        "# Locations of actual answers within contexts \n",
        "indicesc = np.argmax(a,axis=1)\n",
        "\n",
        "for i,e,cw, cqa in list(zip(indices, indicesc, val_context_words, val_cqas))[:limit]:\n",
        "    ccc = \" \".join(cw)\n",
        "    print(\"TEXT: \",ccc)\n",
        "    print (\"QUESTION: \", \" \".join(cqa[3]))\n",
        "    print (\"RESPONSE: \", cw[i], [\"Correct\", \"Incorrect\"][i!=e])\n",
        "    print(\"EXPECTED: \", cw[e])\n",
        "    print()"
      ],
      "execution_count": 22,
      "outputs": [
        {
          "output_type": "stream",
          "text": [
            "TEXT:  bill travelled to the office . jeff took the apple there . jeff put down the apple . bill moved to the bedroom . jeff picked up the milk there . bill moved to the garden . bill journeyed to the bedroom . jeff went back to the office . jeff handed the milk to mary . bill went back to the bathroom . fred went to the office . bill travelled to the kitchen .\n",
            "QUESTION:  what did jeff give to mary ?\n",
            "RESPONSE:  apple Incorrect\n",
            "EXPECTED:  milk\n",
            "\n",
            "TEXT:  jeff travelled to the bathroom . bill journeyed to the bedroom . jeff journeyed to the hallway . bill took the milk there . bill discarded the milk . mary moved to the bedroom . jeff went back to the bedroom . fred got the football there . bill grabbed the milk there . bill passed the milk to mary . mary gave the milk to bill . bill discarded the milk there . bill went to the kitchen . bill got the apple there . fred dropped the football . mary went to the garden . fred travelled to the kitchen . fred went back to the bedroom . fred got the milk there . fred handed the milk to jeff . fred moved to the bathroom . bill moved to the bedroom .\n",
            "QUESTION:  who received the milk ?\n",
            "RESPONSE:  fred Incorrect\n",
            "EXPECTED:  jeff\n",
            "\n",
            "TEXT:  mary travelled to the office . jeff went to the garden . jeff went back to the hallway . mary grabbed the milk there . mary picked up the football there . mary picked up the apple there . jeff travelled to the kitchen . bill moved to the garden . bill went back to the kitchen . fred moved to the garden . mary dropped the football . mary went back to the kitchen . jeff journeyed to the office . bill journeyed to the office . bill journeyed to the garden . fred moved to the bedroom . mary left the milk . bill went to the office . mary went to the bedroom . mary journeyed to the office . jeff grabbed the football there . mary went to the bathroom . mary went to the garden . jeff handed the football to bill . mary travelled to the kitchen . bill gave the football to jeff . mary dropped the apple . jeff gave the football to bill . bill passed the football to jeff . jeff travelled to the bathroom . bill went back to the garden . jeff dropped the football .\n",
            "QUESTION:  who gave the football ?\n",
            "RESPONSE:  mary Incorrect\n",
            "EXPECTED:  bill\n",
            "\n",
            "TEXT:  mary went to the bedroom . jeff went to the office . mary travelled to the kitchen . bill moved to the office . mary moved to the office . fred went to the bathroom . fred journeyed to the office . bill went to the bathroom . jeff travelled to the bathroom . fred went to the garden . bill went back to the hallway . fred got the football there . bill went to the bedroom . jeff went back to the office . fred got the milk there . mary journeyed to the garden . bill travelled to the office . fred travelled to the hallway . fred went back to the bedroom . jeff went back to the hallway . bill journeyed to the bedroom . bill went back to the hallway . fred left the football . fred went back to the kitchen . mary journeyed to the hallway . jeff journeyed to the bedroom . fred went to the hallway . bill journeyed to the bathroom . bill journeyed to the garden . fred gave the milk to mary . mary discarded the milk . jeff got the football there . mary got the milk there . mary passed the milk to fred . fred handed the milk to mary . jeff put down the football .\n",
            "QUESTION:  what did fred give to mary ?\n",
            "RESPONSE:  football Incorrect\n",
            "EXPECTED:  milk\n",
            "\n",
            "TEXT:  fred travelled to the bedroom . jeff grabbed the milk there . jeff dropped the milk . fred journeyed to the bathroom . fred grabbed the football there . bill journeyed to the kitchen . mary moved to the bathroom . jeff went to the bedroom . fred put down the football there . fred went to the kitchen . bill journeyed to the garden . bill journeyed to the bathroom . bill took the football there . fred went back to the bathroom . bill handed the football to mary . mary passed the football to fred . fred handed the football to mary . mary went to the office . mary took the milk there . mary went to the bedroom . mary gave the football to jeff . mary travelled to the office .\n",
            "QUESTION:  what did mary give to jeff ?\n",
            "RESPONSE:  milk Incorrect\n",
            "EXPECTED:  football\n",
            "\n"
          ],
          "name": "stdout"
        },
        {
          "output_type": "stream",
          "text": [
            "/usr/local/lib/python3.6/dist-packages/ipykernel_launcher.py:10: DeprecationWarning: In future, it will be an error for 'np.bool_' scalars to be interpreted as an index\n",
            "  # Remove the CWD from sys.path while we load stuff.\n"
          ],
          "name": "stderr"
        }
      ]
    },
    {
      "cell_type": "code",
      "metadata": {
        "id": "0Kbg8LwLET54",
        "colab_type": "code",
        "colab": {
          "base_uri": "https://localhost:8080/",
          "height": 610
        },
        "outputId": "317ca4c2-9854-42a1-99c0-cd8ba9a32380"
      },
      "source": [
        "train(training_iterations_count, batch_size)"
      ],
      "execution_count": 23,
      "outputs": [
        {
          "output_type": "stream",
          "text": [
            "  0%|          | 1/3125 [00:03<2:53:15,  3.33s/it]"
          ],
          "name": "stderr"
        },
        {
          "output_type": "stream",
          "text": [
            "Iter 0.0, Minibatch Loss=  0.6732762 Accuracy=  0.40703124\n"
          ],
          "name": "stdout"
        },
        {
          "output_type": "stream",
          "text": [
            "  3%|▎         | 101/3125 [02:25<1:29:51,  1.78s/it]"
          ],
          "name": "stderr"
        },
        {
          "output_type": "stream",
          "text": [
            "Iter 100.0, Minibatch Loss=  0.67325836 Accuracy=  0.47734374\n"
          ],
          "name": "stdout"
        },
        {
          "output_type": "stream",
          "text": [
            "  6%|▋         | 201/3125 [04:48<1:37:14,  2.00s/it]"
          ],
          "name": "stderr"
        },
        {
          "output_type": "stream",
          "text": [
            "Iter 200.0, Minibatch Loss=  0.6732447 Accuracy=  0.53203124\n"
          ],
          "name": "stdout"
        },
        {
          "output_type": "stream",
          "text": [
            " 10%|▉         | 301/3125 [07:03<1:27:16,  1.85s/it]"
          ],
          "name": "stderr"
        },
        {
          "output_type": "stream",
          "text": [
            "Iter 300.0, Minibatch Loss=  0.67323184 Accuracy=  0.571875\n"
          ],
          "name": "stdout"
        },
        {
          "output_type": "stream",
          "text": [
            " 13%|█▎        | 401/3125 [09:21<1:23:00,  1.83s/it]"
          ],
          "name": "stderr"
        },
        {
          "output_type": "stream",
          "text": [
            "Iter 400.0, Minibatch Loss=  0.6732247 Accuracy=  0.6265625\n"
          ],
          "name": "stdout"
        },
        {
          "output_type": "stream",
          "text": [
            " 16%|█▌        | 501/3125 [11:40<1:19:11,  1.81s/it]"
          ],
          "name": "stderr"
        },
        {
          "output_type": "stream",
          "text": [
            "Iter 500.0, Minibatch Loss=  0.67321146 Accuracy=  0.69609374\n"
          ],
          "name": "stdout"
        },
        {
          "output_type": "stream",
          "text": [
            " 19%|█▉        | 601/3125 [14:01<1:22:33,  1.96s/it]"
          ],
          "name": "stderr"
        },
        {
          "output_type": "stream",
          "text": [
            "Iter 600.0, Minibatch Loss=  0.6732086 Accuracy=  0.7210938\n"
          ],
          "name": "stdout"
        },
        {
          "output_type": "stream",
          "text": [
            " 22%|██▏       | 701/3125 [16:20<1:07:50,  1.68s/it]"
          ],
          "name": "stderr"
        },
        {
          "output_type": "stream",
          "text": [
            "Iter 700.0, Minibatch Loss=  0.673192 Accuracy=  0.7914063\n"
          ],
          "name": "stdout"
        },
        {
          "output_type": "stream",
          "text": [
            " 26%|██▌       | 801/3125 [18:44<1:08:26,  1.77s/it]"
          ],
          "name": "stderr"
        },
        {
          "output_type": "stream",
          "text": [
            "Iter 800.0, Minibatch Loss=  0.67317986 Accuracy=  0.8148438\n"
          ],
          "name": "stdout"
        },
        {
          "output_type": "stream",
          "text": [
            " 29%|██▉       | 901/3125 [21:09<1:09:24,  1.87s/it]"
          ],
          "name": "stderr"
        },
        {
          "output_type": "stream",
          "text": [
            "Iter 900.0, Minibatch Loss=  0.67317665 Accuracy=  0.8328125\n"
          ],
          "name": "stdout"
        },
        {
          "output_type": "stream",
          "text": [
            " 32%|███▏      | 1001/3125 [23:31<1:09:54,  1.97s/it]"
          ],
          "name": "stderr"
        },
        {
          "output_type": "stream",
          "text": [
            "Iter 1000.0, Minibatch Loss=  0.67317784 Accuracy=  0.82109374\n"
          ],
          "name": "stdout"
        },
        {
          "output_type": "stream",
          "text": [
            " 35%|███▌      | 1101/3125 [25:52<1:05:13,  1.93s/it]"
          ],
          "name": "stderr"
        },
        {
          "output_type": "stream",
          "text": [
            "Iter 1100.0, Minibatch Loss=  0.6731654 Accuracy=  0.8773438\n"
          ],
          "name": "stdout"
        },
        {
          "output_type": "stream",
          "text": [
            " 38%|███▊      | 1201/3125 [28:17<1:00:24,  1.88s/it]"
          ],
          "name": "stderr"
        },
        {
          "output_type": "stream",
          "text": [
            "Iter 1200.0, Minibatch Loss=  0.6731651 Accuracy=  0.8609375\n"
          ],
          "name": "stdout"
        },
        {
          "output_type": "stream",
          "text": [
            " 42%|████▏     | 1301/3125 [30:34<59:13,  1.95s/it]"
          ],
          "name": "stderr"
        },
        {
          "output_type": "stream",
          "text": [
            "Iter 1300.0, Minibatch Loss=  0.673158 Accuracy=  0.896875\n"
          ],
          "name": "stdout"
        },
        {
          "output_type": "stream",
          "text": [
            " 45%|████▍     | 1401/3125 [32:58<47:56,  1.67s/it]"
          ],
          "name": "stderr"
        },
        {
          "output_type": "stream",
          "text": [
            "Iter 1400.0, Minibatch Loss=  0.67315656 Accuracy=  0.90234375\n"
          ],
          "name": "stdout"
        },
        {
          "output_type": "stream",
          "text": [
            " 48%|████▊     | 1501/3125 [35:22<50:03,  1.85s/it]"
          ],
          "name": "stderr"
        },
        {
          "output_type": "stream",
          "text": [
            "Iter 1500.0, Minibatch Loss=  0.6731571 Accuracy=  0.8960937\n"
          ],
          "name": "stdout"
        },
        {
          "output_type": "stream",
          "text": [
            " 51%|█████     | 1601/3125 [37:42<48:03,  1.89s/it]"
          ],
          "name": "stderr"
        },
        {
          "output_type": "stream",
          "text": [
            "Iter 1600.0, Minibatch Loss=  0.6731522 Accuracy=  0.9109375\n"
          ],
          "name": "stdout"
        },
        {
          "output_type": "stream",
          "text": [
            " 54%|█████▍    | 1701/3125 [40:05<47:34,  2.00s/it]"
          ],
          "name": "stderr"
        },
        {
          "output_type": "stream",
          "text": [
            "Iter 1700.0, Minibatch Loss=  0.67315185 Accuracy=  0.91328126\n"
          ],
          "name": "stdout"
        },
        {
          "output_type": "stream",
          "text": [
            " 58%|█████▊    | 1801/3125 [42:30<42:46,  1.94s/it]"
          ],
          "name": "stderr"
        },
        {
          "output_type": "stream",
          "text": [
            "Iter 1800.0, Minibatch Loss=  0.673148 Accuracy=  0.93359375\n"
          ],
          "name": "stdout"
        },
        {
          "output_type": "stream",
          "text": [
            " 61%|██████    | 1901/3125 [44:50<39:00,  1.91s/it]"
          ],
          "name": "stderr"
        },
        {
          "output_type": "stream",
          "text": [
            "Iter 1900.0, Minibatch Loss=  0.6731504 Accuracy=  0.92109376\n"
          ],
          "name": "stdout"
        },
        {
          "output_type": "stream",
          "text": [
            " 64%|██████▍   | 2001/3125 [47:15<35:26,  1.89s/it]"
          ],
          "name": "stderr"
        },
        {
          "output_type": "stream",
          "text": [
            "Iter 2000.0, Minibatch Loss=  0.67315024 Accuracy=  0.91875\n"
          ],
          "name": "stdout"
        },
        {
          "output_type": "stream",
          "text": [
            " 67%|██████▋   | 2101/3125 [49:33<33:12,  1.95s/it]"
          ],
          "name": "stderr"
        },
        {
          "output_type": "stream",
          "text": [
            "Iter 2100.0, Minibatch Loss=  0.67314965 Accuracy=  0.91875\n"
          ],
          "name": "stdout"
        },
        {
          "output_type": "stream",
          "text": [
            " 70%|███████   | 2201/3125 [51:52<29:57,  1.95s/it]"
          ],
          "name": "stderr"
        },
        {
          "output_type": "stream",
          "text": [
            "Iter 2200.0, Minibatch Loss=  0.6731456 Accuracy=  0.928125\n"
          ],
          "name": "stdout"
        },
        {
          "output_type": "stream",
          "text": [
            " 74%|███████▎  | 2301/3125 [54:13<26:30,  1.93s/it]"
          ],
          "name": "stderr"
        },
        {
          "output_type": "stream",
          "text": [
            "Iter 2300.0, Minibatch Loss=  0.6731459 Accuracy=  0.93359375\n"
          ],
          "name": "stdout"
        },
        {
          "output_type": "stream",
          "text": [
            " 77%|███████▋  | 2401/3125 [56:31<20:18,  1.68s/it]"
          ],
          "name": "stderr"
        },
        {
          "output_type": "stream",
          "text": [
            "Iter 2400.0, Minibatch Loss=  0.67316353 Accuracy=  0.884375\n"
          ],
          "name": "stdout"
        },
        {
          "output_type": "stream",
          "text": [
            " 80%|████████  | 2501/3125 [58:47<19:46,  1.90s/it]"
          ],
          "name": "stderr"
        },
        {
          "output_type": "stream",
          "text": [
            "Iter 2500.0, Minibatch Loss=  0.67315453 Accuracy=  0.90703124\n"
          ],
          "name": "stdout"
        },
        {
          "output_type": "stream",
          "text": [
            " 83%|████████▎ | 2601/3125 [1:01:12<15:15,  1.75s/it]"
          ],
          "name": "stderr"
        },
        {
          "output_type": "stream",
          "text": [
            "Iter 2600.0, Minibatch Loss=  0.6731433 Accuracy=  0.94375\n"
          ],
          "name": "stdout"
        },
        {
          "output_type": "stream",
          "text": [
            " 86%|████████▋ | 2701/3125 [1:03:30<11:55,  1.69s/it]"
          ],
          "name": "stderr"
        },
        {
          "output_type": "stream",
          "text": [
            "Iter 2700.0, Minibatch Loss=  0.67314225 Accuracy=  0.9453125\n"
          ],
          "name": "stdout"
        },
        {
          "output_type": "stream",
          "text": [
            " 90%|████████▉ | 2801/3125 [1:05:48<10:21,  1.92s/it]"
          ],
          "name": "stderr"
        },
        {
          "output_type": "stream",
          "text": [
            "Iter 2800.0, Minibatch Loss=  0.67314535 Accuracy=  0.9320313\n"
          ],
          "name": "stdout"
        },
        {
          "output_type": "stream",
          "text": [
            " 93%|█████████▎| 2901/3125 [1:08:13<06:46,  1.81s/it]"
          ],
          "name": "stderr"
        },
        {
          "output_type": "stream",
          "text": [
            "Iter 2900.0, Minibatch Loss=  0.6731436 Accuracy=  0.9390625\n"
          ],
          "name": "stdout"
        },
        {
          "output_type": "stream",
          "text": [
            " 96%|█████████▌| 3001/3125 [1:10:34<04:01,  1.94s/it]"
          ],
          "name": "stderr"
        },
        {
          "output_type": "stream",
          "text": [
            "Iter 3000.0, Minibatch Loss=  0.6731453 Accuracy=  0.93671876\n"
          ],
          "name": "stdout"
        },
        {
          "output_type": "stream",
          "text": [
            " 99%|█████████▉| 3101/3125 [1:12:57<00:40,  1.70s/it]"
          ],
          "name": "stderr"
        },
        {
          "output_type": "stream",
          "text": [
            "Iter 3100.0, Minibatch Loss=  0.6731419 Accuracy=  0.95703125\n"
          ],
          "name": "stdout"
        },
        {
          "output_type": "stream",
          "text": [
            "100%|██████████| 3125/3125 [1:13:30<00:00,  1.24s/it]\n"
          ],
          "name": "stderr"
        }
      ]
    },
    {
      "cell_type": "code",
      "metadata": {
        "id": "PxQALIjMEm0d",
        "colab_type": "code",
        "colab": {
          "base_uri": "https://localhost:8080/",
          "height": 34
        },
        "outputId": "6ce13e06-153e-4768-a9b8-88895ea667c0"
      },
      "source": [
        "print(np.mean(sess.run([corrects], feed_dict= prep_batch(final_test_data))[0]))"
      ],
      "execution_count": 24,
      "outputs": [
        {
          "output_type": "stream",
          "text": [
            "0.934\n"
          ],
          "name": "stdout"
        }
      ]
    },
    {
      "cell_type": "code",
      "metadata": {
        "id": "aLKn4nNkXlO7",
        "colab_type": "code",
        "colab": {}
      },
      "source": [
        "sess.close()"
      ],
      "execution_count": 0,
      "outputs": []
    },
    {
      "cell_type": "code",
      "metadata": {
        "id": "E_5tvN17Xr9k",
        "colab_type": "code",
        "colab": {}
      },
      "source": [
        ""
      ],
      "execution_count": 0,
      "outputs": []
    }
  ]
}